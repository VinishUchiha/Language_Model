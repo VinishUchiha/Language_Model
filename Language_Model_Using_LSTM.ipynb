{
  "nbformat": 4,
  "nbformat_minor": 0,
  "metadata": {
    "colab": {
      "name": "Language_Model_Using_LSTM",
      "provenance": [],
      "authorship_tag": "ABX9TyMepF/XgPR4SZdPBe8+RBET",
      "include_colab_link": true
    },
    "kernelspec": {
      "name": "python3",
      "display_name": "Python 3"
    },
    "accelerator": "GPU"
  },
  "cells": [
    {
      "cell_type": "markdown",
      "metadata": {
        "id": "view-in-github",
        "colab_type": "text"
      },
      "source": [
        "<a href=\"https://colab.research.google.com/github/VinishUchiha/Language_Model/blob/master/Language_Model_Using_LSTM.ipynb\" target=\"_parent\"><img src=\"https://colab.research.google.com/assets/colab-badge.svg\" alt=\"Open In Colab\"/></a>"
      ]
    },
    {
      "cell_type": "code",
      "metadata": {
        "id": "L13PFkjk_kgl",
        "colab_type": "code",
        "colab": {}
      },
      "source": [
        "import os\n",
        "import sys\n",
        "import numpy as np\n",
        "import pandas as pd\n",
        "import matplotlib.pyplot as plt\n",
        "\n",
        "from tensorflow.keras.models import Model\n",
        "from tensorflow.keras.layers import Dense, Embedding, Input, LSTM\n",
        "from tensorflow.keras.preprocessing.text import Tokenizer\n",
        "from tensorflow.keras.preprocessing.sequence import pad_sequences\n",
        "from tensorflow.keras.optimizers import Adam, SGD"
      ],
      "execution_count": 0,
      "outputs": []
    },
    {
      "cell_type": "code",
      "metadata": {
        "id": "kwmdzBvVBQ4J",
        "colab_type": "code",
        "colab": {}
      },
      "source": [
        "MAX_SEQUENCE_LENGTH = 100\n",
        "MAX_VOCAB_SIZE = 3000\n",
        "EMBEDDING_DIM = 50\n",
        "VALIDATION_SPLIT = 0.2\n",
        "BATCH_SIZE = 128\n",
        "EPOCHS = 2000\n",
        "LATENT_DIM = 25"
      ],
      "execution_count": 0,
      "outputs": []
    },
    {
      "cell_type": "code",
      "metadata": {
        "id": "9niveUMuBrL3",
        "colab_type": "code",
        "colab": {
          "base_uri": "https://localhost:8080/",
          "height": 52
        },
        "outputId": "49232e50-9bc9-4acf-c036-caa3076e4298"
      },
      "source": [
        "input_texts = []\n",
        "target_texts = []\n",
        "file_path = '/content/robert_frost'\n",
        "for line in open(file_path):\n",
        "  line = line.rstrip()\n",
        "  if not line:\n",
        "    continue\n",
        "\n",
        "  input_line = '<sos> '+line\n",
        "  target_line = line + ' <eos>'\n",
        "\n",
        "  input_texts.append(input_line)\n",
        "  target_texts.append(target_line)\n",
        "\n",
        "all_lines = input_texts + target_texts\n",
        "\n",
        "#convert sentence into int\n",
        "tokenizer = Tokenizer(num_words=MAX_VOCAB_SIZE,filters='')\n",
        "tokenizer.fit_on_texts(all_lines)\n",
        "input_sequences = tokenizer.texts_to_sequences(input_texts)\n",
        "target_sequences = tokenizer.texts_to_sequences(target_texts)\n",
        "\n",
        "max_seq_length_from_data = max(len(s) for s in input_sequences)\n",
        "print('Max Seq Length : ',max_seq_length_from_data)\n",
        "\n",
        "word2idx = tokenizer.word_index\n",
        "print('Found {} unique tokens.'.format(len(word2idx)))\n",
        "assert('<sos>' in word2idx)\n",
        "assert('<eos>' in word2idx)"
      ],
      "execution_count": 3,
      "outputs": [
        {
          "output_type": "stream",
          "text": [
            "Max Seq Length :  12\n",
            "Found 3056 unique tokens.\n"
          ],
          "name": "stdout"
        }
      ]
    },
    {
      "cell_type": "code",
      "metadata": {
        "id": "vrxvs8y1uvw9",
        "colab_type": "code",
        "colab": {
          "base_uri": "https://localhost:8080/",
          "height": 364
        },
        "outputId": "726aa0e2-d904-4606-e3f3-f1b7b6c9571b"
      },
      "source": [
        "#Downloading Glove Vector #colab\n",
        "!wget http://nlp.stanford.edu/data/glove.6B.zip"
      ],
      "execution_count": 4,
      "outputs": [
        {
          "output_type": "stream",
          "text": [
            "--2020-05-20 11:43:05--  http://nlp.stanford.edu/data/glove.6B.zip\n",
            "Resolving nlp.stanford.edu (nlp.stanford.edu)... 171.64.67.140\n",
            "Connecting to nlp.stanford.edu (nlp.stanford.edu)|171.64.67.140|:80... connected.\n",
            "HTTP request sent, awaiting response... 302 Found\n",
            "Location: https://nlp.stanford.edu/data/glove.6B.zip [following]\n",
            "--2020-05-20 11:43:05--  https://nlp.stanford.edu/data/glove.6B.zip\n",
            "Connecting to nlp.stanford.edu (nlp.stanford.edu)|171.64.67.140|:443... connected.\n",
            "HTTP request sent, awaiting response... 301 Moved Permanently\n",
            "Location: http://downloads.cs.stanford.edu/nlp/data/glove.6B.zip [following]\n",
            "--2020-05-20 11:43:05--  http://downloads.cs.stanford.edu/nlp/data/glove.6B.zip\n",
            "Resolving downloads.cs.stanford.edu (downloads.cs.stanford.edu)... 171.64.64.22\n",
            "Connecting to downloads.cs.stanford.edu (downloads.cs.stanford.edu)|171.64.64.22|:80... connected.\n",
            "HTTP request sent, awaiting response... 200 OK\n",
            "Length: 862182613 (822M) [application/zip]\n",
            "Saving to: ‘glove.6B.zip’\n",
            "\n",
            "glove.6B.zip        100%[===================>] 822.24M  2.14MB/s    in 6m 27s  \n",
            "\n",
            "2020-05-20 11:49:32 (2.13 MB/s) - ‘glove.6B.zip’ saved [862182613/862182613]\n",
            "\n"
          ],
          "name": "stdout"
        }
      ]
    },
    {
      "cell_type": "code",
      "metadata": {
        "id": "JzT3CyQkx9t9",
        "colab_type": "code",
        "colab": {
          "base_uri": "https://localhost:8080/",
          "height": 104
        },
        "outputId": "ea55bf24-d1ba-498c-d9fd-2864d2f9815a"
      },
      "source": [
        "#unziping #colab\n",
        "!unzip glove.6B.zip"
      ],
      "execution_count": 5,
      "outputs": [
        {
          "output_type": "stream",
          "text": [
            "Archive:  glove.6B.zip\n",
            "  inflating: glove.6B.50d.txt        \n",
            "  inflating: glove.6B.100d.txt       \n",
            "  inflating: glove.6B.200d.txt       \n",
            "  inflating: glove.6B.300d.txt       \n"
          ],
          "name": "stdout"
        }
      ]
    },
    {
      "cell_type": "code",
      "metadata": {
        "id": "7bPLhrbyyK03",
        "colab_type": "code",
        "colab": {
          "base_uri": "https://localhost:8080/",
          "height": 34
        },
        "outputId": "893923ba-4dbe-46ad-a575-a73675132207"
      },
      "source": [
        "max_seq_len = min(max_seq_length_from_data,MAX_SEQUENCE_LENGTH)\n",
        "input_sequences = pad_sequences(input_sequences,maxlen=max_seq_len,padding='post')\n",
        "target_sequences = pad_sequences(target_sequences,maxlen=max_seq_len,padding='post')\n",
        "print('Shape of data tensor : ',input_sequences.shape)"
      ],
      "execution_count": 6,
      "outputs": [
        {
          "output_type": "stream",
          "text": [
            "Shape of data tensor :  (1436, 12)\n"
          ],
          "name": "stdout"
        }
      ]
    },
    {
      "cell_type": "code",
      "metadata": {
        "id": "0rkffjbXzK9U",
        "colab_type": "code",
        "colab": {
          "base_uri": "https://localhost:8080/",
          "height": 34
        },
        "outputId": "9713b753-cefa-479c-dfa9-4158c62c1f9d"
      },
      "source": [
        "#load pre-trained vectors\n",
        "word2vec = {}\n",
        "with open(os.path.join('/content/glove.6B.50d.txt')) as f:\n",
        "  for line in f:\n",
        "    values = line.split()\n",
        "    word = values[0]\n",
        "    vec = np.asarray(values[1:],dtype='float32')\n",
        "    word2vec[word] = vec\n",
        "print('Found {} word vectors'.format(len(word2vec)))"
      ],
      "execution_count": 7,
      "outputs": [
        {
          "output_type": "stream",
          "text": [
            "Found 400000 word vectors\n"
          ],
          "name": "stdout"
        }
      ]
    },
    {
      "cell_type": "code",
      "metadata": {
        "id": "dtENmEEpzKwg",
        "colab_type": "code",
        "colab": {}
      },
      "source": [
        "#prepare embedding matrix\n",
        "num_words = min(MAX_VOCAB_SIZE,len(word2idx)+1)\n",
        "embedding_matrix = np.zeros((num_words,EMBEDDING_DIM))\n",
        "for word,i in word2idx.items():\n",
        "  if i < MAX_VOCAB_SIZE:\n",
        "    embedding_vector = word2vec.get(word)\n",
        "    if embedding_vector is not None:\n",
        "      embedding_matrix[i] = embedding_vector"
      ],
      "execution_count": 0,
      "outputs": []
    },
    {
      "cell_type": "code",
      "metadata": {
        "id": "5ad4k7GIzKdZ",
        "colab_type": "code",
        "colab": {}
      },
      "source": [
        "#one-hot the target\n",
        "one_hot_targets = np.zeros((len(input_sequences),max_seq_len,num_words))\n",
        "for i, target_sequence in enumerate(target_sequences):\n",
        "  for t, word in enumerate(target_sequence):\n",
        "    if word > 0:\n",
        "      one_hot_targets[i,t,word] = 1"
      ],
      "execution_count": 0,
      "outputs": []
    },
    {
      "cell_type": "code",
      "metadata": {
        "id": "5rkrd__31_ea",
        "colab_type": "code",
        "colab": {}
      },
      "source": [
        "#load pre-trained word embedding to embedding layer\n",
        "embedding_layer = Embedding(num_words,EMBEDDING_DIM,weights=[embedding_matrix])\n",
        "#Model building\n",
        "input_ = Input(shape=(max_seq_len,))\n",
        "initial_h = Input(shape=(LATENT_DIM,))\n",
        "initial_c = Input(shape=(LATENT_DIM,))\n",
        "x = embedding_layer(input_)\n",
        "lstm = LSTM(LATENT_DIM,return_sequences=True,return_state=True)\n",
        "x,_,_ = lstm(x,initial_state=[initial_h,initial_c])\n",
        "dense = Dense(num_words,activation='softmax')\n",
        "output = dense(x)\n",
        "\n",
        "model = Model([input_,initial_h,initial_c],output)\n",
        "model.compile(loss='categorical_crossentropy',optimizer=Adam(lr=0.01),metrics=['accuracy'])"
      ],
      "execution_count": 0,
      "outputs": []
    },
    {
      "cell_type": "code",
      "metadata": {
        "id": "aRjF3Dv74FFb",
        "colab_type": "code",
        "colab": {}
      },
      "source": [
        "model.summary()"
      ],
      "execution_count": 0,
      "outputs": []
    },
    {
      "cell_type": "code",
      "metadata": {
        "id": "QXPGIGDA4Ibl",
        "colab_type": "code",
        "colab": {}
      },
      "source": [
        "#Training a Model\n",
        "z = np.zeros((len(input_sequences),LATENT_DIM))\n",
        "r = model.fit([input_sequences,z,z],one_hot_targets,batch_size=BATCH_SIZE,epochs=EPOCHS,\n",
        "              validation_split = VALIDATION_SPLIT)"
      ],
      "execution_count": 0,
      "outputs": []
    },
    {
      "cell_type": "code",
      "metadata": {
        "id": "Ie-tP_iB4zqn",
        "colab_type": "code",
        "colab": {
          "base_uri": "https://localhost:8080/",
          "height": 267
        },
        "outputId": "cc28e09e-53c1-4215-cc03-c9d7b606b8f6"
      },
      "source": [
        "#ploting the loss\n",
        "plt.plot(r.history['loss'],label='loss')\n",
        "plt.plot(r.history['val_loss'],label='val_loss')\n",
        "plt.legend()\n",
        "plt.show()"
      ],
      "execution_count": 13,
      "outputs": [
        {
          "output_type": "display_data",
          "data": {
            "image/png": "[encoded data removed]",
            "text/plain": [
              "<Figure size 432x288 with 1 Axes>"
            ]
          },
          "metadata": {
            "tags": [],
            "needs_background": "light"
          }
        }
      ]
    },
    {
      "cell_type": "code",
      "metadata": {
        "id": "xr3wfmpG5qGh",
        "colab_type": "code",
        "colab": {
          "base_uri": "https://localhost:8080/",
          "height": 265
        },
        "outputId": "0b4f73c5-e263-4c4f-ba61-61376810e683"
      },
      "source": [
        "#ploting the acc\n",
        "plt.plot(r.history['accuracy'],label='acc')\n",
        "plt.plot(r.history['val_accuracy'],label='val_acc')\n",
        "plt.legend()\n",
        "plt.show()"
      ],
      "execution_count": 15,
      "outputs": [
        {
          "output_type": "display_data",
          "data": {
            "image/png": "[encoded data removed]",
            "text/plain": [
              "<Figure size 432x288 with 1 Axes>"
            ]
          },
          "metadata": {
            "tags": [],
            "needs_background": "light"
          }
        }
      ]
    },
    {
      "cell_type": "code",
      "metadata": {
        "id": "GGX8F0ez51tl",
        "colab_type": "code",
        "colab": {}
      },
      "source": [
        "#make a sampling model\n",
        "input2 = Input(shape=(1,)) #one word at a time\n",
        "x = embedding_layer(input2)\n",
        "x,h,c = lstm(x,initial_state=[initial_h,initial_c])\n",
        "output2 = dense(x)\n",
        "sampling_model = Model([input2,initial_h,initial_c],[output2,h,c])"
      ],
      "execution_count": 0,
      "outputs": []
    },
    {
      "cell_type": "code",
      "metadata": {
        "id": "EsHMWWNe7WHk",
        "colab_type": "code",
        "colab": {}
      },
      "source": [
        "idx2word = {v:k for k,v in word2idx.items()}"
      ],
      "execution_count": 0,
      "outputs": []
    },
    {
      "cell_type": "code",
      "metadata": {
        "id": "3uWYXH6t-192",
        "colab_type": "code",
        "colab": {}
      },
      "source": [
        "def sample_line():\n",
        "  np_input = np.array([[word2idx['<sos>']]])\n",
        "  h = np.zeros((1,LATENT_DIM))\n",
        "  c = np.zeros((1,LATENT_DIM))\n",
        "\n",
        "  eos = word2idx['<eos>']\n",
        "\n",
        "  output_sentence = []\n",
        "\n",
        "  for _ in range(max_seq_len):\n",
        "    o,h,c = sampling_model.predict([np_input,h,c])\n",
        "\n",
        "    probs = o[0,0]\n",
        "    if np.argmax(probs) == 0:\n",
        "      print('Impossible')\n",
        "    probs[0] = 0\n",
        "    probs /= probs.sum()\n",
        "    idx = np.random.choice(len(probs),p=probs)\n",
        "    if idx ==eos:\n",
        "      break\n",
        "\n",
        "    output_sentence.append(idx2word.get(idx,'MISSING'))\n",
        "\n",
        "    #MAKE THE NEXT INPUT INTO MODEL\n",
        "    np_input[0,0] = idx\n",
        "\n",
        "  return ' '.join(output_sentence)"
      ],
      "execution_count": 0,
      "outputs": []
    },
    {
      "cell_type": "code",
      "metadata": {
        "id": "X6Izyndx-1tv",
        "colab_type": "code",
        "colab": {}
      },
      "source": [
        "while True:\n",
        "  for _ in range(4):\n",
        "    print(sample_line())\n",
        "\n",
        "  ans = input('Generate Another?? [y/n]')\n",
        "  if ans and ans[0].lower().startswith('n'):\n",
        "    break"
      ],
      "execution_count": 0,
      "outputs": []
    },
    {
      "cell_type": "code",
      "metadata": {
        "id": "Uv8dHEuU7jsD",
        "colab_type": "code",
        "colab": {}
      },
      "source": [
        ""
      ],
      "execution_count": 0,
      "outputs": []
    }
  ]
}